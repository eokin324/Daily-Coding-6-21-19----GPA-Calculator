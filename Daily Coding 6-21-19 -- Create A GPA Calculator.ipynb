{
 "cells": [
  {
   "cell_type": "code",
   "execution_count": 10,
   "metadata": {},
   "outputs": [
    {
     "name": "stdout",
     "output_type": "stream",
     "text": [
      "How many courses do you want to input? 2\n",
      "Course name: Finance\n",
      "Number of credits: 4\n",
      "Letter grade: A\n",
      "Course name: Operations\n",
      "Number of credits: 3\n",
      "Letter grade: B+\n",
      "Credits 7.0\n",
      "Your GPA is: 3.7\n"
     ]
    }
   ],
   "source": [
    "number_courses=input(\"How many courses do you want to input? \")\n",
    "\n",
    "count=1\n",
    "sum=0\n",
    "credits=0\n",
    "credits_this_class=0\n",
    "\n",
    "while count<=int(number_courses):\n",
    "    input(\"Course name: \")\n",
    "    credits_this_class=float(input(\"Number of credits: \"))  \n",
    "    y=input(\"Letter grade: \")\n",
    "    if y==\"A\":\n",
    "        sum+=4*credits_this_class\n",
    "    elif y==\"A-\":\n",
    "        sum+=3.7*credits_this_class\n",
    "    elif y==\"B+\":\n",
    "        sum+=3.3*credits_this_class\n",
    "    elif y==\"B\":\n",
    "        sum+=3*credits_this_class\n",
    "    elif y==\"B-\":\n",
    "        sum+=2.7*credits_this_class\n",
    "    elif y==\"C+\":\n",
    "        sum+=2.3*credits_this_class\n",
    "    elif y==\"C\":\n",
    "        sum+=2*credits_this_class\n",
    "    elif y==\"C-\":\n",
    "        sum+=1.7*credits_this_class\n",
    "    elif y==\"D\":\n",
    "        sum+=1*credits_this_class\n",
    "    else:\n",
    "        sum+=0*credits_this_class\n",
    "    credits+=credits_this_class\n",
    "    count+=1\n",
    "    \n",
    "print('Credits ' + str(credits))\n",
    "#print('Sum' + str(sum))\n",
    "print('Your GPA is: ' + str(round(sum/credits,2)))"
   ]
  },
  {
   "cell_type": "code",
   "execution_count": null,
   "metadata": {},
   "outputs": [],
   "source": []
  }
 ],
 "metadata": {
  "kernelspec": {
   "display_name": "Python 3",
   "language": "python",
   "name": "python3"
  },
  "language_info": {
   "codemirror_mode": {
    "name": "ipython",
    "version": 3
   },
   "file_extension": ".py",
   "mimetype": "text/x-python",
   "name": "python",
   "nbconvert_exporter": "python",
   "pygments_lexer": "ipython3",
   "version": "3.7.3"
  }
 },
 "nbformat": 4,
 "nbformat_minor": 2
}
